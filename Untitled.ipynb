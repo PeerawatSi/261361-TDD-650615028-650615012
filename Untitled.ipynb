{
  "nbformat": 4,
  "nbformat_minor": 0,
  "metadata": {
    "colab": {
      "provenance": []
    },
    "kernelspec": {
      "name": "python3",
      "display_name": "Python 3"
    },
    "language_info": {
      "name": "python"
    }
  },
  "cells": [
    {
      "cell_type": "markdown",
      "source": [
        "We will create the function that create the aliphabet Diamond. The wildest point can be specified by 'character' variable."
      ],
      "metadata": {
        "id": "7sdz2MSlI9vU"
      }
    },
    {
      "cell_type": "markdown",
      "source": [
        "We’ll call the function align_Diamond(), and will just make an empty function for now as a placeholder.\n",
        "\n",
        "\n"
      ],
      "metadata": {
        "id": "TwTvZDy-Lcu5"
      }
    },
    {
      "cell_type": "code",
      "source": [
        "def align_Diamond(character):\n",
        "  #Do nothing for now\n",
        "  pass\n"
      ],
      "metadata": {
        "id": "RVLHVLGaIjkX"
      },
      "execution_count": 18,
      "outputs": []
    },
    {
      "cell_type": "markdown",
      "source": [
        "Before we design a method to create diamond we will make a display to count aliphabets from A to the selected character.This will allow developer to define the requirements for making diamond. Now, we'll write a test that check the output that is A,B,C and D."
      ],
      "metadata": {
        "id": "d0eDQ9d7L_98"
      }
    },
    {
      "cell_type": "code",
      "source": [
        "align_Diamond('D') == 'A B C D '\n"
      ],
      "metadata": {
        "colab": {
          "base_uri": "https://localhost:8080/"
        },
        "id": "5cjrU0tDMlXV",
        "outputId": "55776051-2df4-4dc2-c41e-5ab4477393ed"
      },
      "execution_count": 50,
      "outputs": [
        {
          "output_type": "execute_result",
          "data": {
            "text/plain": [
              "True"
            ]
          },
          "metadata": {},
          "execution_count": 50
        }
      ]
    },
    {
      "cell_type": "markdown",
      "source": [
        "It should be true but 'align_Diamond()' is an empty function.It doesn't return any value. We will edit function to return 'character'"
      ],
      "metadata": {
        "id": "sz8ZMBW5if75"
      }
    },
    {
      "cell_type": "markdown",
      "source": [
        "After that we'll going to print the character that assigned to the function."
      ],
      "metadata": {
        "id": "JS3Os0FXNPxh"
      }
    },
    {
      "cell_type": "code",
      "source": [
        "def align_Diamond(character):\n",
        "  return character\n"
      ],
      "metadata": {
        "id": "_MRoYsEJOuND"
      },
      "execution_count": 41,
      "outputs": []
    },
    {
      "cell_type": "code",
      "source": [
        "print(align_Diamond('A'))\n",
        "print(align_Diamond('B'))\n",
        "align_Diamond('D') == 'A B C D '"
      ],
      "metadata": {
        "colab": {
          "base_uri": "https://localhost:8080/"
        },
        "id": "ZbrzVBZWPIOU",
        "outputId": "f2057b50-60c9-4c1c-b436-a4d056767585"
      },
      "execution_count": 49,
      "outputs": [
        {
          "output_type": "stream",
          "name": "stdout",
          "text": [
            "A \n",
            "A B \n"
          ]
        },
        {
          "output_type": "execute_result",
          "data": {
            "text/plain": [
              "True"
            ]
          },
          "metadata": {},
          "execution_count": 49
        }
      ]
    },
    {
      "cell_type": "markdown",
      "source": [
        "For the result 'A' has been displayed but it doesn't the expected output to count aliphabets from A to the selected character."
      ],
      "metadata": {
        "id": "hULdIO10kKFp"
      }
    },
    {
      "cell_type": "markdown",
      "source": [
        "Now we create a function to display all the alphabet from A to the character that the function got and check if the output is correct."
      ],
      "metadata": {
        "id": "kGQG0b5NP8BU"
      }
    },
    {
      "cell_type": "code",
      "source": [
        "def align_Diamond(character):\n",
        "  start = ord('A')\n",
        "  end = ord(character)\n",
        "  strin = \"\"\n",
        "\n",
        "    # Check if the character is valid (between 'A' and 'Z')\n",
        "  if start <= end <= ord('Z'):\n",
        "      # Iterate from the ASCII value of 'A' to the specified character and print each character\n",
        "      for i in range(start, end + 1):\n",
        "        strin = strin + chr(i) + ' '\n",
        "\n",
        "  else:\n",
        "      print(\"Invalid character\")\n",
        "  return strin\n",
        "\n",
        "\n"
      ],
      "metadata": {
        "id": "huUBNRJRQ2yi"
      },
      "execution_count": 45,
      "outputs": []
    },
    {
      "cell_type": "code",
      "source": [
        "print(align_Diamond('B'))\n",
        "print(align_Diamond('F'))\n",
        "print(align_Diamond('D'))\n",
        "align_Diamond('D') == 'A B C D '"
      ],
      "metadata": {
        "colab": {
          "base_uri": "https://localhost:8080/"
        },
        "id": "INK-oyviSE2w",
        "outputId": "89a18176-2cf3-46b3-ec88-ca239835730c"
      },
      "execution_count": 48,
      "outputs": [
        {
          "output_type": "stream",
          "name": "stdout",
          "text": [
            "A B \n",
            "A B C D E F \n",
            "A B C D \n"
          ]
        },
        {
          "output_type": "execute_result",
          "data": {
            "text/plain": [
              "True"
            ]
          },
          "metadata": {},
          "execution_count": 48
        }
      ]
    },
    {
      "cell_type": "markdown",
      "source": [
        "Now, we will change format of output to print a diamond ‘A’ with the supplied letter at the widest point.\n",
        "\n"
      ],
      "metadata": {
        "id": "z9QmQazPYqIG"
      }
    },
    {
      "cell_type": "code",
      "source": [
        "def align_Diamond(character):\n",
        "    start = ord('A')\n",
        "    end = ord(character)\n",
        "    if start <= end <= ord('Z'):\n",
        "        # Upper part of the diamond\n",
        "        for i in range(start, end + 1):\n",
        "            print(' ' * (end - i), chr(i), ' ' * (2 * (i - start) - 1) + (chr(i) if i != start else ''))\n",
        "\n",
        "        # Lower part of the diamond\n",
        "        for i in range(end - 1, start - 1, -1):\n",
        "            print(' ' * (end - i), chr(i), ' ' * (2 * (i - start) - 1) + (chr(i) if i != start else ''))\n",
        "    else:\n",
        "        print(\"Invalid character\")"
      ],
      "metadata": {
        "id": "hERi6f_uZs1-"
      },
      "execution_count": 25,
      "outputs": []
    },
    {
      "cell_type": "code",
      "source": [
        "align_Diamond('C')\n",
        "align_Diamond('F')"
      ],
      "metadata": {
        "colab": {
          "base_uri": "https://localhost:8080/"
        },
        "id": "mhvH4hhmZxqp",
        "outputId": "16b5a18a-2866-436f-9f71-ae6a033738d7"
      },
      "execution_count": 26,
      "outputs": [
        {
          "output_type": "stream",
          "name": "stdout",
          "text": [
            "   A \n",
            "  B  B\n",
            " C    C\n",
            "  B  B\n",
            "   A \n",
            "      A \n",
            "     B  B\n",
            "    C    C\n",
            "   D      D\n",
            "  E        E\n",
            " F          F\n",
            "  E        E\n",
            "   D      D\n",
            "    C    C\n",
            "     B  B\n",
            "      A \n"
          ]
        }
      ]
    },
    {
      "cell_type": "markdown",
      "source": [
        "How ever when we declare 'character' as a lower character function isn't supported yet."
      ],
      "metadata": {
        "id": "T9kFAexJdKjj"
      }
    },
    {
      "cell_type": "code",
      "source": [
        "align_Diamond('c')\n",
        "align_Diamond('f')"
      ],
      "metadata": {
        "colab": {
          "base_uri": "https://localhost:8080/"
        },
        "id": "6mYCXRgpdZ3x",
        "outputId": "97fb9228-ae36-483b-80d7-624f89f7cdfe"
      },
      "execution_count": 27,
      "outputs": [
        {
          "output_type": "stream",
          "name": "stdout",
          "text": [
            "Invalid character\n",
            "Invalid character\n"
          ]
        }
      ]
    },
    {
      "cell_type": "markdown",
      "source": [
        "we will fix this issues by converting lower to upper."
      ],
      "metadata": {
        "id": "lN-b8IP7dt04"
      }
    },
    {
      "cell_type": "code",
      "source": [
        "def align_Diamond(character):\n",
        "    character = character.upper()\n",
        "    start = ord('A')\n",
        "    end = ord(character)\n",
        "    if start <= end <= ord('Z'):\n",
        "        # Upper part of the diamond\n",
        "        for i in range(start, end + 1):\n",
        "            print(' ' * (end - i), chr(i), ' ' * (2 * (i - start) - 1) + (chr(i) if i != start else ''))\n",
        "\n",
        "        # Lower part of the diamond\n",
        "        for i in range(end - 1, start - 1, -1):\n",
        "            print(' ' * (end - i), chr(i), ' ' * (2 * (i - start) - 1) + (chr(i) if i != start else ''))\n",
        "    else:\n",
        "        print(\"Invalid character\")"
      ],
      "metadata": {
        "id": "ZzGaMaYleAjj"
      },
      "execution_count": 28,
      "outputs": []
    },
    {
      "cell_type": "code",
      "source": [
        "align_Diamond('c')\n",
        "align_Diamond('f')"
      ],
      "metadata": {
        "colab": {
          "base_uri": "https://localhost:8080/"
        },
        "id": "CJnH5WWUe5jC",
        "outputId": "deb9e7cd-5c97-4955-9c49-a9cb133a013a"
      },
      "execution_count": 29,
      "outputs": [
        {
          "output_type": "stream",
          "name": "stdout",
          "text": [
            "   A \n",
            "  B  B\n",
            " C    C\n",
            "  B  B\n",
            "   A \n",
            "      A \n",
            "     B  B\n",
            "    C    C\n",
            "   D      D\n",
            "  E        E\n",
            " F          F\n",
            "  E        E\n",
            "   D      D\n",
            "    C    C\n",
            "     B  B\n",
            "      A \n"
          ]
        }
      ]
    }
  ]
}